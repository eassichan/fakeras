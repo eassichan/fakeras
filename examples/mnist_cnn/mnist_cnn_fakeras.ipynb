{
 "cells": [
  {
   "cell_type": "code",
   "execution_count": 1,
   "metadata": {
    "collapsed": true
   },
   "outputs": [],
   "source": [
    "# 构建一个简单的卷积网络用于训练mnist数据集：\n",
    "from fakeras import NeuralNetwork\n",
    "from fakeras.layer import (\n",
    "    Conv2D,\n",
    "    Dense,\n",
    "    Flatten,\n",
    "    MaxPool2D,\n",
    ")\n",
    "\n",
    "model = NeuralNetwork()\n",
    "model.add(Conv2D(32, (3, 3), 'relu', 'he', \n",
    "                 input_shape=(1, 28, 28)))\n",
    "model.add(MaxPool2D((2, 2)))\n",
    "model.add(Conv2D(64, (3, 3), 'relu', 'he',))\n",
    "model.add(MaxPool2D((2, 2)))\n",
    "model.add(Conv2D(64, (3, 3), 'relu', 'he'))\n",
    "model.add(Flatten())\n",
    "model.add(Dense(64, 'relu', 'he'))\n",
    "model.add(Dense(10, 'softmax', 'he'))"
   ]
  },
  {
   "cell_type": "code",
   "execution_count": 2,
   "metadata": {},
   "outputs": [],
   "source": [
    "import numpy as np\n",
    "\n",
    "def one_hot_encode(dataset, feature_num, dtype='float64'):\n",
    "    sample_num = len(dataset)\n",
    "    dataset_encoded = np.zeros((sample_num, feature_num), dtype=dtype)\n",
    "    for sidx, widx in enumerate(dataset):\n",
    "        dataset_encoded[sidx, widx] = 1\n",
    "    return dataset_encoded"
   ]
  },
  {
   "cell_type": "code",
   "execution_count": 3,
   "metadata": {},
   "outputs": [
    {
     "name": "stdout",
     "output_type": "stream",
     "text": [
      "(60000, 1, 28, 28)\n(60000, 10)\n(10000, 1, 28, 28)\n(10000, 10)\n"
     ]
    }
   ],
   "source": [
    "# 在mnist数据集上训练卷积神经网络：\n",
    "from fakeras.datasets.mnist import load_data\n",
    "\n",
    "(x_train, y_train), (x_test, y_test) = load_data()\n",
    "dtype = 'float32'\n",
    "x_train = x_train.reshape(60000, 1, 28, 28).astype(dtype) / 255\n",
    "x_test = x_test.reshape(10000, 1, 28, 28).astype(dtype) / 255\n",
    "\n",
    "y_train = one_hot_encode(y_train, feature_num=10, dtype=dtype)\n",
    "y_test = one_hot_encode(y_test, feature_num=10, dtype=dtype)\n",
    "print(x_train.shape)\n",
    "print(y_train.shape)\n",
    "print(x_test.shape)\n",
    "print(y_test.shape)"
   ]
  },
  {
   "cell_type": "code",
   "execution_count": 4,
   "metadata": {},
   "outputs": [
    {
     "name": "stdout",
     "output_type": "stream",
     "text": [
      "Epoch 1/5 - loss: 0.073869 - acc: 0.976933 - time used: 486.4839754104614s.\n"
     ]
    },
    {
     "name": "stdout",
     "output_type": "stream",
     "text": [
      "Epoch 2/5 - loss: 0.048870 - acc: 0.986517 - time used: 485.702999830246s.\n"
     ]
    },
    {
     "name": "stdout",
     "output_type": "stream",
     "text": [
      "Epoch 3/5 - loss: 0.040269 - acc: 0.989067 - time used: 486.1599898338318s.\n"
     ]
    },
    {
     "name": "stdout",
     "output_type": "stream",
     "text": [
      "Epoch 4/5 - loss: 0.050554 - acc: 0.985650 - time used: 483.9889929294586s.\n"
     ]
    },
    {
     "name": "stdout",
     "output_type": "stream",
     "text": [
      "Epoch 5/5 - loss: 0.032567 - acc: 0.990333 - time used: 483.8140082359314s.\n"
     ]
    },
    {
     "data": {
      "text/plain": [
       "[{'epoch': 0,\n  'loss': 0.07386909657202088,\n  'acc': 0.9769333333333436,\n  'time_used': 486.4839754104614},\n {'epoch': 1,\n  'loss': 0.048869989977632644,\n  'acc': 0.9865166666666768,\n  'time_used': 485.702999830246},\n {'epoch': 2,\n  'loss': 0.0402692600804804,\n  'acc': 0.9890666666666766,\n  'time_used': 486.1599898338318},\n {'epoch': 3,\n  'loss': 0.050554403787301985,\n  'acc': 0.9856500000000101,\n  'time_used': 483.9889929294586},\n {'epoch': 4,\n  'loss': 0.03256728837926762,\n  'acc': 0.9903333333333433,\n  'time_used': 483.8140082359314}]"
      ]
     },
     "execution_count": 4,
     "metadata": {},
     "output_type": "execute_result"
    }
   ],
   "source": [
    "# 编译网络然后训练：\n",
    "# x_train = x_train[1000:]\n",
    "# y_train = y_train[1000:]\n",
    "model.compile('rmsprop', 'cce', 'acc')\n",
    "model.fit(inputs=x_train,\n",
    "          targets=y_train,\n",
    "          batch_size=64,\n",
    "          epochs=5,\n",
    "          lr=0.001,\n",
    "          verbose=True,\n",
    "          use_every_sample=True)"
   ]
  },
  {
   "cell_type": "code",
   "execution_count": 5,
   "metadata": {},
   "outputs": [
    {
     "name": "stdout",
     "output_type": "stream",
     "text": [
      "{'loss': 0.06413841462945355, 'metric': 0.9855000000000007}\n"
     ]
    }
   ],
   "source": [
    "result = model.evaluate(x_test, y_test)\n",
    "print(result)"
   ]
  },
  {
   "cell_type": "code",
   "execution_count": 6,
   "metadata": {},
   "outputs": [
    {
     "name": "stdout",
     "output_type": "stream",
     "text": [
      "prdict values are:  [6 9 3 6 2 1 5 8 8 0]\ntarget values are:  [6 9 3 6 2 1 5 8 8 0]\n"
     ]
    },
    {
     "data": {
      "image/png": "[encoded data removed]",
      "text/plain": [
       "<Figure size 432x288 with 10 Axes>"
      ]
     },
     "metadata": {},
     "output_type": "display_data"
    }
   ],
   "source": [
    "# 最后，从测试集中随机抽取10个样本，将它们还原为手写数字图片，\n",
    "# 使用网络对它们进行预测，并将预测值和目标值比较\n",
    "import matplotlib.pyplot as plt\n",
    "\n",
    "indices = np.random.choice(len(x_test), 10, replace=False)\n",
    "x_show = x_test[indices]\n",
    "y_show = y_test[indices]\n",
    "x_to_pic = x_show.copy()\n",
    "x_to_pic.resize(10, 1, 28, 28)\n",
    "y_pred = model.predict(x_show)\n",
    "y_pred_max = y_pred.argmax(axis=1)\n",
    "y_show_max = y_show.argmax(axis=1)\n",
    "plt.figure()\n",
    "print('prdict values are: ', y_pred_max)\n",
    "print('target values are: ', y_show_max)\n",
    "for i in range(len(y_pred_max)):\n",
    "    plt.subplot(1, 10, i+1)\n",
    "    plt.imshow(x_to_pic[i][0])"
   ]
  },
  {
   "cell_type": "code",
   "execution_count": null,
   "metadata": {},
   "outputs": [],
   "source": []
  }
 ],
 "metadata": {
  "kernelspec": {
   "display_name": "Python 2",
   "language": "python",
   "name": "python2"
  },
  "language_info": {
   "codemirror_mode": {
    "name": "ipython",
    "version": 2
   },
   "file_extension": ".py",
   "mimetype": "text/x-python",
   "name": "python",
   "nbconvert_exporter": "python",
   "pygments_lexer": "ipython2",
   "version": "2.7.6"
  }
 },
 "nbformat": 4,
 "nbformat_minor": 0
}
