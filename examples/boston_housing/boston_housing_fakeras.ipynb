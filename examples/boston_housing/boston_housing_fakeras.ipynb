{
 "cells": [
  {
   "cell_type": "code",
   "execution_count": 2,
   "metadata": {
    "collapsed": true
   },
   "outputs": [],
   "source": [
    "# 加载boston_housing数据集：\n",
    "from fakeras.datasets import boston_housing\n",
    "\n",
    "(x_train, y_train), (x_test, y_test) = boston_housing.load_data()"
   ]
  },
  {
   "cell_type": "code",
   "execution_count": 3,
   "metadata": {},
   "outputs": [
    {
     "name": "stdout",
     "output_type": "stream",
     "text": [
      "(404, 13)\n(404,)\n(102, 13)\n(102,)\n"
     ]
    }
   ],
   "source": [
    "print(x_train.shape)\n",
    "print(y_train.shape)\n",
    "print(x_test.shape)\n",
    "print(y_test.shape)"
   ]
  },
  {
   "cell_type": "code",
   "execution_count": 4,
   "metadata": {},
   "outputs": [],
   "source": [
    "# 归一化特征数据：\n",
    "mean = x_train.mean(axis=0)\n",
    "x_train -= mean\n",
    "std = x_train.std(axis=0)\n",
    "x_train /= std\n",
    "\n",
    "x_test -= mean\n",
    "x_test /= std\n",
    "\n",
    "y_train.resize((404, 1))\n",
    "y_test.resize((102, 1))"
   ]
  },
  {
   "cell_type": "code",
   "execution_count": 5,
   "metadata": {},
   "outputs": [],
   "source": [
    "# 构建网络：\n",
    "from fakeras import NeuralNetwork\n",
    "from fakeras.layer import Dense\n",
    "\n",
    "def build_model():\n",
    "    model = NeuralNetwork()\n",
    "    model.add(Dense(64, 'relu', 'xavier', (13,)))\n",
    "    model.add(Dense(64, 'relu', 'xavier'))\n",
    "    model.add(Dense(1, 'identity', 'xavier'))\n",
    "    model.compile('rmsprop', 'mse', 'mae')\n",
    "    return model"
   ]
  },
  {
   "cell_type": "code",
   "execution_count": 6,
   "metadata": {},
   "outputs": [],
   "source": [
    "# 定义K折交叉验证：\n",
    "import math\n",
    "import numpy as np\n",
    "\n",
    "def k_ford_validate(x_train, y_train, batch_size, num_fold, num_epoch, lr=0.001):\n",
    "    \"\"\" 使用K折验证训练模型. \"\"\"\n",
    "    num_sample = x_train.shape[0]\n",
    "    fold_size = math.ceil(num_sample / num_fold)\n",
    "\n",
    "    all_histories = []\n",
    "    for k in range(num_fold):\n",
    "        print(\"Processing fold #\", k)\n",
    "\n",
    "        start = k * fold_size\n",
    "        stop = (k + 1) * fold_size\n",
    "        x_val = x_train[start:stop]\n",
    "        y_val = y_train[start:stop]\n",
    "        x_train_part = np.concatenate([x_train[:start],\n",
    "                                       x_train[stop:]],\n",
    "                                      axis=0)\n",
    "        y_train_part = np.concatenate([y_train[:start],\n",
    "                                       y_train[stop:]],\n",
    "                                      axis=0)\n",
    "\n",
    "        model = build_model()\n",
    "        histories = model.fit(inputs=x_train_part,\n",
    "                              targets=y_train_part,\n",
    "                              batch_size=batch_size,\n",
    "                              epochs=num_epoch,\n",
    "                              lr=lr,\n",
    "                              validation_data=(x_val, y_val),\n",
    "                              use_every_sample=True,\n",
    "                              verbose=False)\n",
    "        # all_histories是一个二维列表，第一维代表折数，第二维代表轮数，最里层的元素是包含mse和mae的字典\n",
    "        all_histories.append(histories)\n",
    "        del model\n",
    "\n",
    "    # 对每一折的历史数据汇总求均值，然后按轮数收集：\n",
    "    hist_index_by_epoch = []\n",
    "    for e in range(num_epoch):\n",
    "        mse = 0.\n",
    "        mae = 0.\n",
    "        mse_val = 0.\n",
    "        mae_val = 0.\n",
    "        time_used = 0.\n",
    "        for k in range(num_fold):\n",
    "            hist = all_histories[k][e]  # type(hist) == dict\n",
    "            mse += hist['loss']\n",
    "            mae += hist['mae']\n",
    "            mse_val += hist['loss_val']\n",
    "            mae_val += hist['mae_val']\n",
    "            time_used += hist['time_used']\n",
    "        mse /= num_fold\n",
    "        mae /= num_fold\n",
    "        mse_val /= num_fold\n",
    "        mae_val /= num_fold\n",
    "        hist_index_by_epoch.append(dict(mse=mse, mae=mae, mse_val=mse_val, mae_val=mae_val,\n",
    "                                        time_used=time_used, epoch=e))\n",
    "    return hist_index_by_epoch"
   ]
  },
  {
   "cell_type": "code",
   "execution_count": 7,
   "metadata": {},
   "outputs": [
    {
     "name": "stdout",
     "output_type": "stream",
     "text": [
      "Processing fold # 0\n"
     ]
    },
    {
     "name": "stdout",
     "output_type": "stream",
     "text": [
      "Processing fold # 1\n"
     ]
    },
    {
     "name": "stdout",
     "output_type": "stream",
     "text": [
      "Processing fold # 2\n"
     ]
    },
    {
     "name": "stdout",
     "output_type": "stream",
     "text": [
      "Processing fold # 3\n"
     ]
    }
   ],
   "source": [
    "# 使用K折交叉验证训练模型，直至过拟合：\n",
    "hists = k_ford_validate(x_train, \n",
    "                        y_train, \n",
    "                        batch_size=1, \n",
    "                        num_fold=4, \n",
    "                        num_epoch=500)"
   ]
  },
  {
   "cell_type": "code",
   "execution_count": 8,
   "metadata": {},
   "outputs": [
    {
     "data": {
      "text/plain": [
       "<matplotlib.legend.Legend at 0x22bffe28198>"
      ]
     },
     "execution_count": 8,
     "metadata": {},
     "output_type": "execute_result"
    },
    {
     "data": {
      "image/png": "[encoded data removed]",
      "text/plain": [
       "<Figure size 432x288 with 1 Axes>"
      ]
     },
     "metadata": {},
     "output_type": "display_data"
    }
   ],
   "source": [
    "# 绘制验证分数：\n",
    "import matplotlib.pyplot as plt\n",
    "\n",
    "def smooth(x, beta=0.9):\n",
    "    \"\"\" 使用指数加权平均让曲线更平滑. \"\"\"\n",
    "    y = []\n",
    "    for i in x:\n",
    "        if y:\n",
    "            pre = y[-1]\n",
    "            y.append(beta * pre + (1 - beta) * i)\n",
    "        else:\n",
    "            y.append(i)\n",
    "    return y\n",
    "\n",
    "Epochs = [hists[i]['epoch'] for i in range(len(hists))][10:]\n",
    "loss_val = smooth([hists[i]['mse_val'] for i in range(len(hists))][10:])\n",
    "metric_val = smooth([hists[i]['mae_val'] for i in range(len(hists))][10:])\n",
    "\n",
    "plt.title(\"Training and validation Metric\")\n",
    "plt.xlabel(\"Epochs\")\n",
    "plt.ylabel(\"Metric\")\n",
    "plt.plot(Epochs, metric_val, 'b', label=\"Validation Metric\")\n",
    "plt.legend()"
   ]
  },
  {
   "cell_type": "code",
   "execution_count": 9,
   "metadata": {},
   "outputs": [],
   "source": [
    "# 训练最终模型：\n",
    "# 由上图可知，MAE在50轮左右不再显著降低：\n",
    "model = build_model()\n",
    "histories = model.fit(x_train,\n",
    "                      y_train,\n",
    "                      batch_size=16,\n",
    "                      epochs=50,\n",
    "                      lr=0.001,\n",
    "                      verbose=False,\n",
    "                      use_every_sample=True)"
   ]
  },
  {
   "cell_type": "code",
   "execution_count": 10,
   "metadata": {},
   "outputs": [
    {
     "name": "stdout",
     "output_type": "stream",
     "text": [
      "{'loss': 6.539252872264067, 'metric': 2.524511628618479}\n"
     ]
    }
   ],
   "source": [
    "# 评估最终的模型：\n",
    "results = model.evaluate(x_test, y_test)\n",
    "print(results)"
   ]
  },
  {
   "cell_type": "code",
   "execution_count": null,
   "metadata": {},
   "outputs": [],
   "source": []
  }
 ],
 "metadata": {
  "kernelspec": {
   "display_name": "Python 2",
   "language": "python",
   "name": "python2"
  },
  "language_info": {
   "codemirror_mode": {
    "name": "ipython",
    "version": 2
   },
   "file_extension": ".py",
   "mimetype": "text/x-python",
   "name": "python",
   "nbconvert_exporter": "python",
   "pygments_lexer": "ipython2",
   "version": "2.7.6"
  }
 },
 "nbformat": 4,
 "nbformat_minor": 0
}
