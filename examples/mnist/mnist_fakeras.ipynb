{
 "cells": [
  {
   "cell_type": "code",
   "execution_count": 3,
   "metadata": {
    "collapsed": true
   },
   "outputs": [],
   "source": [
    "# 加载minras中的mnist数据集：\n",
    "from fakeras.datasets import mnist\n",
    "(x_train, y_train), (x_test, y_test) = mnist.load_data()"
   ]
  },
  {
   "cell_type": "code",
   "execution_count": 4,
   "metadata": {},
   "outputs": [
    {
     "data": {
      "text/plain": [
       "(60000, 28, 28)"
      ]
     },
     "execution_count": 4,
     "metadata": {},
     "output_type": "execute_result"
    }
   ],
   "source": [
    "# 查看训练集的形状：\n",
    "x_train.shape"
   ]
  },
  {
   "cell_type": "code",
   "execution_count": 5,
   "metadata": {},
   "outputs": [
    {
     "data": {
      "text/plain": [
       "(60000,)"
      ]
     },
     "execution_count": 5,
     "metadata": {},
     "output_type": "execute_result"
    }
   ],
   "source": [
    "# 查看训练集标签的形状：\n",
    "y_train.shape"
   ]
  },
  {
   "cell_type": "code",
   "execution_count": 6,
   "metadata": {},
   "outputs": [
    {
     "name": "stdout",
     "output_type": "stream",
     "text": [
      "(10000, 28, 28)\n(10000,)\n"
     ]
    }
   ],
   "source": [
    "# 同理，测试集应该是类似的：\n",
    "print(x_test.shape)\n",
    "print(y_test.shape)"
   ]
  },
  {
   "cell_type": "code",
   "execution_count": 7,
   "metadata": {},
   "outputs": [],
   "source": [
    "# 构建网络：\n",
    "from fakeras import NeuralNetwork\n",
    "from fakeras.layer import Dense\n",
    "\n",
    "model = NeuralNetwork()\n",
    "model.add(Dense(512, 'relu', 'he', (784,)))\n",
    "model.add(Dense(10, 'softmax', 'he'))\n",
    "model.build()\n",
    "model.compile('rmsprop', 'cce', 'acc')"
   ]
  },
  {
   "cell_type": "code",
   "execution_count": 8,
   "metadata": {},
   "outputs": [],
   "source": [
    "# 准备图像样本：\n",
    "dtype = 'float32'\n",
    "x_train = x_train.astype(dtype) / 255\n",
    "x_train.resize(60000, 784)\n",
    "\n",
    "x_test = x_test.astype(dtype) / 255\n",
    "x_test.resize(10000, 784)\n"
   ]
  },
  {
   "cell_type": "code",
   "execution_count": 9,
   "metadata": {},
   "outputs": [],
   "source": [
    "# 准备标签：\n",
    "import numpy as np\n",
    "\n",
    "def one_hot_encode(dataset, feature_num, dtype='float64'):\n",
    "    sample_num = len(dataset)\n",
    "    dataset_encoded = np.zeros((sample_num, feature_num), dtype=dtype)\n",
    "    for sidx, widx in enumerate(dataset):  # sample index and word index\n",
    "        dataset_encoded[sidx, widx] = 1\n",
    "    return dataset_encoded\n",
    "\n",
    "y_train = one_hot_encode(y_train, 10, dtype)\n",
    "y_test = one_hot_encode(y_test, 10, dtype)"
   ]
  },
  {
   "cell_type": "code",
   "execution_count": 10,
   "metadata": {},
   "outputs": [
    {
     "name": "stdout",
     "output_type": "stream",
     "text": [
      "Epoch 1/5 - loss: 0.120752 - acc: 0.965633 - time used: 19.065999746322632s.\n"
     ]
    },
    {
     "name": "stdout",
     "output_type": "stream",
     "text": [
      "Epoch 2/5 - loss: 0.078108 - acc: 0.978850 - time used: 18.349008321762085s.\n"
     ]
    },
    {
     "name": "stdout",
     "output_type": "stream",
     "text": [
      "Epoch 3/5 - loss: 0.086575 - acc: 0.978867 - time used: 18.454000234603882s.\n"
     ]
    },
    {
     "name": "stdout",
     "output_type": "stream",
     "text": [
      "Epoch 4/5 - loss: 0.068777 - acc: 0.984633 - time used: 18.368000984191895s.\n"
     ]
    },
    {
     "name": "stdout",
     "output_type": "stream",
     "text": [
      "Epoch 5/5 - loss: 0.060439 - acc: 0.987433 - time used: 18.465998888015747s.\n"
     ]
    },
    {
     "data": {
      "text/plain": [
       "[{'epoch': 0,\n  'loss': 0.12075240710144097,\n  'acc': 0.9656333333333433,\n  'time_used': 19.065999746322632},\n {'epoch': 1,\n  'loss': 0.07810803243672604,\n  'acc': 0.9788500000000103,\n  'time_used': 18.349008321762085},\n {'epoch': 2,\n  'loss': 0.08657530054883937,\n  'acc': 0.9788666666666769,\n  'time_used': 18.454000234603882},\n {'epoch': 3,\n  'loss': 0.06877683089497788,\n  'acc': 0.9846333333333437,\n  'time_used': 18.368000984191895},\n {'epoch': 4,\n  'loss': 0.060439007440564164,\n  'acc': 0.9874333333333435,\n  'time_used': 18.465998888015747}]"
      ]
     },
     "execution_count": 10,
     "metadata": {},
     "output_type": "execute_result"
    }
   ],
   "source": [
    "# 拟合数据：\n",
    "model.fit(inputs=x_train,\n",
    "          targets=y_train,\n",
    "          batch_size=128,\n",
    "          epochs=5,\n",
    "          verbose=True,\n",
    "          use_every_sample=True)"
   ]
  },
  {
   "cell_type": "code",
   "execution_count": 11,
   "metadata": {},
   "outputs": [
    {
     "name": "stdout",
     "output_type": "stream",
     "text": [
      "{'loss': 0.1831872116384071, 'metric': 0.9737000000000007}\n"
     ]
    }
   ],
   "source": [
    "test_result = model.evaluate(x_test, y_test)\n",
    "print(test_result)"
   ]
  },
  {
   "cell_type": "code",
   "execution_count": null,
   "metadata": {},
   "outputs": [],
   "source": []
  }
 ],
 "metadata": {
  "kernelspec": {
   "display_name": "Python 2",
   "language": "python",
   "name": "python2"
  },
  "language_info": {
   "codemirror_mode": {
    "name": "ipython",
    "version": 2
   },
   "file_extension": ".py",
   "mimetype": "text/x-python",
   "name": "python",
   "nbconvert_exporter": "python",
   "pygments_lexer": "ipython2",
   "version": "2.7.6"
  }
 },
 "nbformat": 4,
 "nbformat_minor": 0
}
