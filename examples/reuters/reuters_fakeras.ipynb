{
 "cells": [
  {
   "cell_type": "code",
   "execution_count": 1,
   "metadata": {
    "collapsed": true
   },
   "outputs": [],
   "source": [
    "# 加载reuters数据集：\n",
    "from fakeras.datasets import reuters"
   ]
  },
  {
   "cell_type": "code",
   "execution_count": 2,
   "metadata": {},
   "outputs": [
    {
     "name": "stdout",
     "output_type": "stream",
     "text": [
      "(8982,)\n(8982,)\n(2246,)\n(2246,)\n"
     ]
    }
   ],
   "source": [
    "(x_train, y_train), (x_test, y_test) = reuters.load_data(num_words=10000)\n",
    "print(x_train.shape)\n",
    "print(y_train.shape)\n",
    "print(x_test.shape)\n",
    "print(y_test.shape)"
   ]
  },
  {
   "cell_type": "code",
   "execution_count": 3,
   "metadata": {},
   "outputs": [],
   "source": [
    "# 数据预处理：\n",
    "import numpy as np\n",
    "\n",
    "def one_hot_encode(docs, dim, dtype):\n",
    "    docs_encoded = np.zeros((len(docs), dim), dtype=dtype)\n",
    "    for i, doc in enumerate(docs):\n",
    "        docs_encoded[i, doc] = 1\n",
    "    return docs_encoded\n",
    "\n",
    "dtype = 'float64'\n",
    "x_train = one_hot_encode(x_train, dim=10000, dtype=dtype)\n",
    "x_test = one_hot_encode(x_test, dim=10000, dtype=dtype)\n",
    "\n",
    "y_train = one_hot_encode(y_train, dim=46, dtype=dtype)\n",
    "y_test = one_hot_encode(y_test, dim=46, dtype=dtype)"
   ]
  },
  {
   "cell_type": "code",
   "execution_count": 4,
   "metadata": {},
   "outputs": [],
   "source": [
    "# 构建网络：\n",
    "from fakeras import NeuralNetwork\n",
    "from fakeras.layer import Dense\n",
    "\n",
    "model = NeuralNetwork()\n",
    "model.add(Dense(64, 'relu', 'xavier', (10000,)))\n",
    "model.add(Dense(64, 'relu', 'xavier'))\n",
    "model.add(Dense(46, 'softmax', 'xavier'))"
   ]
  },
  {
   "cell_type": "code",
   "execution_count": 5,
   "metadata": {},
   "outputs": [],
   "source": [
    "# 编译模型：\n",
    "model.compile('rmsprop', 'cce', 'acc')"
   ]
  },
  {
   "cell_type": "code",
   "execution_count": 6,
   "metadata": {},
   "outputs": [],
   "source": [
    "# 留出验证集：\n",
    "x_val = x_train[:1000]\n",
    "x_train_part = x_train[1000:]\n",
    "\n",
    "y_val = y_train[:1000]\n",
    "y_train_part = y_train[1000:]"
   ]
  },
  {
   "cell_type": "code",
   "execution_count": 7,
   "metadata": {},
   "outputs": [
    {
     "name": "stdout",
     "output_type": "stream",
     "text": [
      "Epoch 1/20 - loss: 1.747682 - acc: 0.661488 - loss_val: 1.853543 - acc_val: 0.652000 - time used: 3.4270036220550537s.\n"
     ]
    },
    {
     "name": "stdout",
     "output_type": "stream",
     "text": [
      "Epoch 2/20 - loss: 1.212278 - acc: 0.742922 - loss_val: 1.355781 - acc_val: 0.712000 - time used: 3.3379967212677s.\n"
     ]
    },
    {
     "name": "stdout",
     "output_type": "stream",
     "text": [
      "Epoch 3/20 - loss: 0.947560 - acc: 0.805813 - loss_val: 1.174643 - acc_val: 0.731000 - time used: 3.3770058155059814s.\n"
     ]
    },
    {
     "name": "stdout",
     "output_type": "stream",
     "text": [
      "Epoch 4/20 - loss: 0.757748 - acc: 0.832749 - loss_val: 1.060942 - acc_val: 0.770000 - time used: 3.0410008430480957s.\n"
     ]
    },
    {
     "name": "stdout",
     "output_type": "stream",
     "text": [
      "Epoch 5/20 - loss: 0.616320 - acc: 0.877975 - loss_val: 0.970676 - acc_val: 0.784000 - time used: 3.079000473022461s.\n"
     ]
    },
    {
     "name": "stdout",
     "output_type": "stream",
     "text": [
      "Epoch 6/20 - loss: 0.492489 - acc: 0.897895 - loss_val: 0.916601 - acc_val: 0.803000 - time used: 3.0769946575164795s.\n"
     ]
    },
    {
     "name": "stdout",
     "output_type": "stream",
     "text": [
      "Epoch 7/20 - loss: 0.421715 - acc: 0.913305 - loss_val: 0.907236 - acc_val: 0.789000 - time used: 3.0480031967163086s.\n"
     ]
    },
    {
     "name": "stdout",
     "output_type": "stream",
     "text": [
      "Epoch 8/20 - loss: 0.339267 - acc: 0.928965 - loss_val: 0.855289 - acc_val: 0.817000 - time used: 3.023000955581665s.\n"
     ]
    },
    {
     "name": "stdout",
     "output_type": "stream",
     "text": [
      "Epoch 9/20 - loss: 0.299792 - acc: 0.934603 - loss_val: 0.850511 - acc_val: 0.823000 - time used: 3.1270034313201904s.\n"
     ]
    },
    {
     "name": "stdout",
     "output_type": "stream",
     "text": [
      "Epoch 10/20 - loss: 0.238501 - acc: 0.943874 - loss_val: 0.831005 - acc_val: 0.829000 - time used: 3.0159997940063477s.\n"
     ]
    },
    {
     "name": "stdout",
     "output_type": "stream",
     "text": [
      "Epoch 11/20 - loss: 0.207067 - acc: 0.947256 - loss_val: 0.811801 - acc_val: 0.836000 - time used: 3.039001226425171s.\n"
     ]
    },
    {
     "name": "stdout",
     "output_type": "stream",
     "text": [
      "Epoch 12/20 - loss: 0.186772 - acc: 0.949762 - loss_val: 0.807112 - acc_val: 0.840000 - time used: 3.091996669769287s.\n"
     ]
    },
    {
     "name": "stdout",
     "output_type": "stream",
     "text": [
      "Epoch 13/20 - loss: 0.170003 - acc: 0.951766 - loss_val: 0.835263 - acc_val: 0.837000 - time used: 3.0400032997131348s.\n"
     ]
    },
    {
     "name": "stdout",
     "output_type": "stream",
     "text": [
      "Epoch 14/20 - loss: 0.155304 - acc: 0.952393 - loss_val: 0.830092 - acc_val: 0.836000 - time used: 3.0329997539520264s.\n"
     ]
    },
    {
     "name": "stdout",
     "output_type": "stream",
     "text": [
      "Epoch 15/20 - loss: 0.145832 - acc: 0.953646 - loss_val: 0.847697 - acc_val: 0.834000 - time used: 3.093000650405884s.\n"
     ]
    },
    {
     "name": "stdout",
     "output_type": "stream",
     "text": [
      "Epoch 16/20 - loss: 0.134795 - acc: 0.953771 - loss_val: 0.852328 - acc_val: 0.834000 - time used: 3.0540003776550293s.\n"
     ]
    },
    {
     "name": "stdout",
     "output_type": "stream",
     "text": [
      "Epoch 17/20 - loss: 0.128085 - acc: 0.955149 - loss_val: 0.841515 - acc_val: 0.851000 - time used: 3.0480048656463623s.\n"
     ]
    },
    {
     "name": "stdout",
     "output_type": "stream",
     "text": [
      "Epoch 18/20 - loss: 0.126557 - acc: 0.955400 - loss_val: 0.861640 - acc_val: 0.842000 - time used: 3.0339977741241455s.\n"
     ]
    },
    {
     "name": "stdout",
     "output_type": "stream",
     "text": [
      "Epoch 19/20 - loss: 0.121024 - acc: 0.955525 - loss_val: 0.855875 - acc_val: 0.842000 - time used: 3.113003730773926s.\n"
     ]
    },
    {
     "name": "stdout",
     "output_type": "stream",
     "text": [
      "Epoch 20/20 - loss: 0.121779 - acc: 0.955901 - loss_val: 0.880660 - acc_val: 0.831000 - time used: 3.0409979820251465s.\n"
     ]
    }
   ],
   "source": [
    "# 训练模型：\n",
    "histories = model.fit(inputs=x_train_part,\n",
    "                      targets=y_train_part,\n",
    "                      batch_size=512,\n",
    "                      epochs=20,\n",
    "                      lr=0.001,\n",
    "                      validation_data=(x_val, y_val),\n",
    "                      verbose=True,\n",
    "                      use_every_sample=True)"
   ]
  },
  {
   "cell_type": "code",
   "execution_count": 8,
   "metadata": {},
   "outputs": [],
   "source": [
    "# 收集训练指标：\n",
    "epochs = [histories[i]['epoch'] for i in range(len(histories))]\n",
    "loss = [histories[i]['loss'] for i in range(len(histories))]\n",
    "loss_val = [histories[i]['loss_val'] for i in range(len(histories))]\n",
    "metric = [histories[i]['acc'] for i in range(len(histories))]\n",
    "metric_val = [histories[i]['acc_val'] for i in range(len(histories))]\n"
   ]
  },
  {
   "cell_type": "code",
   "execution_count": 9,
   "metadata": {},
   "outputs": [
    {
     "data": {
      "text/plain": [
       "<matplotlib.legend.Legend at 0x14f17080e48>"
      ]
     },
     "execution_count": 9,
     "metadata": {},
     "output_type": "execute_result"
    },
    {
     "data": {
      "image/png": "[encoded data removed]",
      "text/plain": [
       "<Figure size 432x288 with 1 Axes>"
      ]
     },
     "metadata": {},
     "output_type": "display_data"
    }
   ],
   "source": [
    "# 绘制训练损失和验证损失：\n",
    "import matplotlib.pyplot as plt\n",
    "\n",
    "plt.title(\"Training and Validation Loss\")\n",
    "plt.xlabel(\"Epochs\")\n",
    "plt.ylabel(\"Loss\")\n",
    "plt.plot(epochs, loss, 'bo', label=\"Training Loss\")\n",
    "plt.plot(epochs, loss_val, 'b', label=\"Validation Loss\")\n",
    "plt.legend()"
   ]
  },
  {
   "cell_type": "code",
   "execution_count": 10,
   "metadata": {},
   "outputs": [
    {
     "data": {
      "text/plain": [
       "<matplotlib.legend.Legend at 0x14f16faef28>"
      ]
     },
     "execution_count": 10,
     "metadata": {},
     "output_type": "execute_result"
    },
    {
     "data": {
      "image/png": "[encoded data removed]",
      "text/plain": [
       "<Figure size 432x288 with 1 Axes>"
      ]
     },
     "metadata": {},
     "output_type": "display_data"
    }
   ],
   "source": [
    "# 绘制训练精度和验证精度：\n",
    "plt.title(\"Training and validation Metric\")\n",
    "plt.xlabel(\"Epochs\")\n",
    "plt.ylabel(\"Metric\")\n",
    "plt.plot(epochs, metric, 'bo', label=\"Training Metric\")\n",
    "plt.plot(epochs, metric_val, 'b', label=\"Validation Metric\")\n",
    "plt.legend()"
   ]
  },
  {
   "cell_type": "code",
   "execution_count": 11,
   "metadata": {},
   "outputs": [
    {
     "name": "stdout",
     "output_type": "stream",
     "text": [
      "Epoch 1/10 - loss: 1.016212 - acc: 0.754732 - time used: 4.062995433807373s.\n"
     ]
    },
    {
     "name": "stdout",
     "output_type": "stream",
     "text": [
      "Epoch 2/10 - loss: 0.801836 - acc: 0.775662 - time used: 4.117998361587524s.\n"
     ]
    },
    {
     "name": "stdout",
     "output_type": "stream",
     "text": [
      "Epoch 3/10 - loss: 0.447945 - acc: 0.889000 - time used: 4.11800217628479s.\n"
     ]
    },
    {
     "name": "stdout",
     "output_type": "stream",
     "text": [
      "Epoch 4/10 - loss: 0.286183 - acc: 0.920174 - time used: 3.8850011825561523s.\n"
     ]
    },
    {
     "name": "stdout",
     "output_type": "stream",
     "text": [
      "Epoch 5/10 - loss: 0.222388 - acc: 0.941216 - time used: 3.812999725341797s.\n"
     ]
    },
    {
     "name": "stdout",
     "output_type": "stream",
     "text": [
      "Epoch 6/10 - loss: 0.184871 - acc: 0.948675 - time used: 3.77900767326355s.\n"
     ]
    },
    {
     "name": "stdout",
     "output_type": "stream",
     "text": [
      "Epoch 7/10 - loss: 0.196217 - acc: 0.948118 - time used: 3.9349989891052246s.\n"
     ]
    },
    {
     "name": "stdout",
     "output_type": "stream",
     "text": [
      "Epoch 8/10 - loss: 0.159730 - acc: 0.953685 - time used: 4.158006191253662s.\n"
     ]
    },
    {
     "name": "stdout",
     "output_type": "stream",
     "text": [
      "Epoch 9/10 - loss: 0.138771 - acc: 0.955689 - time used: 3.6790006160736084s.\n"
     ]
    },
    {
     "name": "stdout",
     "output_type": "stream",
     "text": [
      "Epoch 10/10 - loss: 0.152564 - acc: 0.952683 - time used: 3.8389954566955566s.\n"
     ]
    },
    {
     "data": {
      "text/plain": [
       "[{'epoch': 0,\n  'loss': 1.0162118248268235,\n  'acc': 0.7547316855934089,\n  'time_used': 4.062995433807373},\n {'epoch': 1,\n  'loss': 0.8018359087685738,\n  'acc': 0.7756624359830772,\n  'time_used': 4.117998361587524},\n {'epoch': 2,\n  'loss': 0.447945281934534,\n  'acc': 0.8890002226675574,\n  'time_used': 4.11800217628479},\n {'epoch': 3,\n  'loss': 0.2861826516040814,\n  'acc': 0.9201736806947233,\n  'time_used': 3.8850011825561523},\n {'epoch': 4,\n  'loss': 0.22238839287823037,\n  'acc': 0.9412157648630604,\n  'time_used': 3.812999725341797},\n {'epoch': 5,\n  'loss': 0.18487133099266306,\n  'acc': 0.9486751280338461,\n  'time_used': 3.77900767326355},\n {'epoch': 6,\n  'loss': 0.19621704686327499,\n  'acc': 0.948118459140504,\n  'time_used': 3.9349989891052246},\n {'epoch': 7,\n  'loss': 0.15973010703676654,\n  'acc': 0.9536851480739266,\n  'time_used': 4.158006191253662},\n {'epoch': 8,\n  'loss': 0.1387710655672878,\n  'acc': 0.9556891560899585,\n  'time_used': 3.6790006160736084},\n {'epoch': 9,\n  'loss': 0.1525635183458412,\n  'acc': 0.9526831440659107,\n  'time_used': 3.8389954566955566}]"
      ]
     },
     "execution_count": 11,
     "metadata": {},
     "output_type": "execute_result"
    }
   ],
   "source": [
    "# 微调超参数epochs：\n",
    "model = NeuralNetwork()\n",
    "model.add(Dense(64, 'relu', 'xavier', (10000,)))\n",
    "model.add(Dense(64, 'relu', 'xavier'))\n",
    "model.add(Dense(46, 'softmax', 'xavier'))\n",
    "model.compile('rmsprop', 'cce', 'acc')\n",
    "model.fit(x_train, \n",
    "          y_train,\n",
    "          batch_size=512,\n",
    "          epochs=10,\n",
    "          verbose=True,\n",
    "          use_every_sample=True)"
   ]
  },
  {
   "cell_type": "code",
   "execution_count": 12,
   "metadata": {},
   "outputs": [
    {
     "name": "stdout",
     "output_type": "stream",
     "text": [
      "{'loss': 1.353646317197376, 'metric': 0.7333036509349955}\n"
     ]
    }
   ],
   "source": [
    "# 评估模型：\n",
    "results = model.evaluate(x_test, y_test)\n",
    "print(results)"
   ]
  },
  {
   "cell_type": "code",
   "execution_count": 13,
   "metadata": {},
   "outputs": [],
   "source": []
  },
  {
   "cell_type": "code",
   "execution_count": null,
   "metadata": {},
   "outputs": [],
   "source": []
  }
 ],
 "metadata": {
  "kernelspec": {
   "display_name": "Python 2",
   "language": "python",
   "name": "python2"
  },
  "language_info": {
   "codemirror_mode": {
    "name": "ipython",
    "version": 2
   },
   "file_extension": ".py",
   "mimetype": "text/x-python",
   "name": "python",
   "nbconvert_exporter": "python",
   "pygments_lexer": "ipython2",
   "version": "2.7.6"
  }
 },
 "nbformat": 4,
 "nbformat_minor": 0
}
