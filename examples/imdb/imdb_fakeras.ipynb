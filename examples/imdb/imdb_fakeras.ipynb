{
 "cells": [
  {
   "cell_type": "code",
   "execution_count": 2,
   "metadata": {
    "collapsed": true
   },
   "outputs": [],
   "source": [
    "# 加载imdb数据集：\n",
    "from fakeras.datasets import imdb\n",
    "\n",
    "(x_train, y_train), (x_test, y_test) \\\n",
    "= imdb.load_data(num_words=10000)"
   ]
  },
  {
   "cell_type": "code",
   "execution_count": 3,
   "metadata": {},
   "outputs": [
    {
     "data": {
      "text/plain": [
       "(25000,)"
      ]
     },
     "execution_count": 3,
     "metadata": {},
     "output_type": "execute_result"
    }
   ],
   "source": [
    "x_train.shape"
   ]
  },
  {
   "cell_type": "code",
   "execution_count": 4,
   "metadata": {},
   "outputs": [
    {
     "name": "stdout",
     "output_type": "stream",
     "text": [
      "[1, 88, 1120, 152, 10, 67, 132, 15, 11, 750, 8880, 716, 209, 362, 6, 12, 42, 8, 189, 42, 35, 9007, 1901, 12, 28, 3572, 86, 108, 4190, 4, 793, 4492, 31, 9, 432, 140, 5, 25, 138, 3, 598, 4, 1610, 42, 21, 1917, 42, 21, 438, 42, 21, 5941, 2, 42, 21, 1217, 42, 40, 3, 8063, 4, 686, 4777, 34, 212, 650, 65, 768, 2, 65, 4639, 946, 369, 5, 27, 1665, 5, 4964, 65, 115, 5763, 1758, 7, 7, 16, 113, 12, 59, 27, 1489, 2288, 15, 1, 716, 2371, 923, 3, 111, 344, 35, 1455, 9896, 94, 3, 4209, 837, 808, 4, 165, 1473, 2, 637, 41, 14, 1981, 14, 146, 1758, 2932, 6882, 744, 419, 155, 6143, 8, 1, 19, 2125, 1030, 7, 7, 2991, 1840, 216, 278, 2, 9, 158, 1173, 98]\n"
     ]
    }
   ],
   "source": [
    "print(x_train[24999])"
   ]
  },
  {
   "cell_type": "code",
   "execution_count": 5,
   "metadata": {},
   "outputs": [
    {
     "data": {
      "text/plain": [
       "(25000,)"
      ]
     },
     "execution_count": 5,
     "metadata": {},
     "output_type": "execute_result"
    }
   ],
   "source": [
    "y_train.shape"
   ]
  },
  {
   "cell_type": "code",
   "execution_count": 6,
   "metadata": {},
   "outputs": [
    {
     "name": "stdout",
     "output_type": "stream",
     "text": [
      "0\n"
     ]
    }
   ],
   "source": [
    "print(y_train[24999])"
   ]
  },
  {
   "cell_type": "code",
   "execution_count": 7,
   "metadata": {},
   "outputs": [
    {
     "name": "stdout",
     "output_type": "stream",
     "text": [
      "the most positive thing i can say for this dull witted local comedy production is that it's in fact it's so astonishingly bland that one wonders how many dozens of re writes by it went through to have such a complete of personality it's not witty it's not entertaining it's not insightful and it's not charming it's just a progression of four losers who must change their ways and their attitudes towards women to be allowed to attend their best friend's wedding br br with acting that would be sub par for the local amateur society a plot line so tired it'd make a forty third season of look fresh and jokes about as humorous as watching wedding nonetheless scored ten yes 10 nominations in the film awards recently br br fortunately somebody saw sense and it didn't win any\n"
     ]
    }
   ],
   "source": [
    "# 将整数索引序列解码成单词序列：\n",
    "word_index = imdb.get_word_index()\n",
    "index_word = {i: w for w, i in word_index.items()}\n",
    "review_decoded = ' '.join(index_word.get(i)\n",
    "                          for i in x_train[24999])\n",
    "print(review_decoded)"
   ]
  },
  {
   "cell_type": "code",
   "execution_count": 8,
   "metadata": {},
   "outputs": [],
   "source": [
    "# 对评论数据进行one-hot编码：\n",
    "import numpy as np\n",
    "\n",
    "dtype = 'float16'\n",
    "def one_hot_encode(docs, dim):\n",
    "    docs_encoded = np.zeros((len(docs), dim),\n",
    "                            dtype=dtype)\n",
    "    for i, doc in enumerate(docs):\n",
    "        docs_encoded[i, doc] = 1\n",
    "    return docs_encoded\n",
    "\n",
    "x_train = one_hot_encode(x_train, dim=10000)\n",
    "x_test = one_hot_encode(x_test, dim=10000)\n",
    "\n",
    "y_train = np.asarray(y_train, dtype=dtype)\n",
    "y_train.resize((25000, 1))\n",
    "y_test = np.asarray(y_test, dtype=dtype)\n",
    "y_test.resize((25000, 1))\n"
   ]
  },
  {
   "cell_type": "code",
   "execution_count": 9,
   "metadata": {},
   "outputs": [
    {
     "name": "stdout",
     "output_type": "stream",
     "text": [
      "(25000, 10000)\n(25000, 1)\n(25000, 10000)\n(25000, 1)\n"
     ]
    }
   ],
   "source": [
    "print(x_train.shape)\n",
    "print(y_train.shape)\n",
    "print(x_test.shape)\n",
    "print(y_test.shape)\n"
   ]
  },
  {
   "cell_type": "code",
   "execution_count": 10,
   "metadata": {},
   "outputs": [],
   "source": [
    "# 构建网络：\n",
    "from fakeras import NeuralNetwork\n",
    "from fakeras.layer import Dense\n",
    "\n",
    "model = NeuralNetwork()\n",
    "model.add(Dense(16, 'relu', 'xavier', (10000,)))\n",
    "model.add(Dense(16, 'relu', 'xavier'))\n",
    "model.add(Dense(1, 'sigmoid', 'xavier'))"
   ]
  },
  {
   "cell_type": "code",
   "execution_count": 11,
   "metadata": {},
   "outputs": [],
   "source": [
    "# 编译模型：\n",
    "model.compile('rmsprop', 'bce', 'bin_acc')"
   ]
  },
  {
   "cell_type": "code",
   "execution_count": 12,
   "metadata": {},
   "outputs": [],
   "source": [
    "# 留出验证集：\n",
    "x_val = x_train[:10000]\n",
    "x_train_part = x_train[10000:]\n",
    "\n",
    "y_val = y_train[:10000]\n",
    "y_train_part = y_train[10000:]"
   ]
  },
  {
   "cell_type": "code",
   "execution_count": 13,
   "metadata": {},
   "outputs": [
    {
     "name": "stdout",
     "output_type": "stream",
     "text": [
      "Epoch 1/20 - loss: 0.386138 - bin_acc: 0.898667 - loss_val: 0.420057 - bin_acc_val: 0.871300 - time used: 7.422999620437622s.\n"
     ]
    },
    {
     "name": "stdout",
     "output_type": "stream",
     "text": [
      "Epoch 2/20 - loss: 0.258401 - bin_acc: 0.931933 - loss_val: 0.325461 - bin_acc_val: 0.887100 - time used: 7.3040056228637695s.\n"
     ]
    },
    {
     "name": "stdout",
     "output_type": "stream",
     "text": [
      "Epoch 3/20 - loss: 0.201536 - bin_acc: 0.939867 - loss_val: 0.304426 - bin_acc_val: 0.881300 - time used: 7.082003116607666s.\n"
     ]
    },
    {
     "name": "stdout",
     "output_type": "stream",
     "text": [
      "Epoch 4/20 - loss: 0.154103 - bin_acc: 0.955467 - loss_val: 0.291127 - bin_acc_val: 0.887600 - time used: 6.758998870849609s.\n"
     ]
    },
    {
     "name": "stdout",
     "output_type": "stream",
     "text": [
      "Epoch 5/20 - loss: 0.120090 - bin_acc: 0.966733 - loss_val: 0.290313 - bin_acc_val: 0.887800 - time used: 6.88001823425293s.\n"
     ]
    },
    {
     "name": "stdout",
     "output_type": "stream",
     "text": [
      "Epoch 6/20 - loss: 0.095857 - bin_acc: 0.977067 - loss_val: 0.296850 - bin_acc_val: 0.887000 - time used: 6.7069995403289795s.\n"
     ]
    },
    {
     "name": "stdout",
     "output_type": "stream",
     "text": [
      "Epoch 7/20 - loss: 0.082649 - bin_acc: 0.981067 - loss_val: 0.317752 - bin_acc_val: 0.883300 - time used: 6.829004526138306s.\n"
     ]
    },
    {
     "name": "stdout",
     "output_type": "stream",
     "text": [
      "Epoch 8/20 - loss: 0.079005 - bin_acc: 0.979467 - loss_val: 0.359566 - bin_acc_val: 0.874000 - time used: 6.720998764038086s.\n"
     ]
    },
    {
     "name": "stdout",
     "output_type": "stream",
     "text": [
      "Epoch 9/20 - loss: 0.052682 - bin_acc: 0.989600 - loss_val: 0.352229 - bin_acc_val: 0.878600 - time used: 6.7150046825408936s.\n"
     ]
    },
    {
     "name": "stdout",
     "output_type": "stream",
     "text": [
      "Epoch 10/20 - loss: 0.047858 - bin_acc: 0.990067 - loss_val: 0.385127 - bin_acc_val: 0.872900 - time used: 6.88599967956543s.\n"
     ]
    },
    {
     "name": "stdout",
     "output_type": "stream",
     "text": [
      "Epoch 11/20 - loss: 0.034676 - bin_acc: 0.994467 - loss_val: 0.400358 - bin_acc_val: 0.875100 - time used: 7.066000461578369s.\n"
     ]
    },
    {
     "name": "stdout",
     "output_type": "stream",
     "text": [
      "Epoch 12/20 - loss: 0.027463 - bin_acc: 0.995933 - loss_val: 0.428456 - bin_acc_val: 0.873000 - time used: 7.850993871688843s.\n"
     ]
    },
    {
     "name": "stdout",
     "output_type": "stream",
     "text": [
      "Epoch 13/20 - loss: 0.022189 - bin_acc: 0.996733 - loss_val: 0.454613 - bin_acc_val: 0.871700 - time used: 6.719000577926636s.\n"
     ]
    },
    {
     "name": "stdout",
     "output_type": "stream",
     "text": [
      "Epoch 14/20 - loss: 0.030465 - bin_acc: 0.995733 - loss_val: 0.535923 - bin_acc_val: 0.862000 - time used: 6.666004180908203s.\n"
     ]
    },
    {
     "name": "stdout",
     "output_type": "stream",
     "text": [
      "Epoch 15/20 - loss: 0.016267 - bin_acc: 0.998133 - loss_val: 0.512548 - bin_acc_val: 0.866900 - time used: 6.56998348236084s.\n"
     ]
    },
    {
     "name": "stdout",
     "output_type": "stream",
     "text": [
      "Epoch 16/20 - loss: 0.017522 - bin_acc: 0.998067 - loss_val: 0.565079 - bin_acc_val: 0.863400 - time used: 6.66600489616394s.\n"
     ]
    },
    {
     "name": "stdout",
     "output_type": "stream",
     "text": [
      "Epoch 17/20 - loss: 0.017946 - bin_acc: 0.998133 - loss_val: 0.610198 - bin_acc_val: 0.859300 - time used: 7.3129987716674805s.\n"
     ]
    },
    {
     "name": "stdout",
     "output_type": "stream",
     "text": [
      "Epoch 18/20 - loss: 0.011588 - bin_acc: 0.999133 - loss_val: 0.624988 - bin_acc_val: 0.860400 - time used: 6.708003282546997s.\n"
     ]
    },
    {
     "name": "stdout",
     "output_type": "stream",
     "text": [
      "Epoch 19/20 - loss: 0.005505 - bin_acc: 0.999533 - loss_val: 0.646049 - bin_acc_val: 0.863200 - time used: 6.720999240875244s.\n"
     ]
    },
    {
     "name": "stdout",
     "output_type": "stream",
     "text": [
      "Epoch 20/20 - loss: 0.003989 - bin_acc: 0.999667 - loss_val: 0.674830 - bin_acc_val: 0.862700 - time used: 7.6650025844573975s.\n"
     ]
    }
   ],
   "source": [
    "# 训练模型：\n",
    "histories = model.fit(inputs=x_train_part,\n",
    "                      targets=y_train_part,\n",
    "                      batch_size=512,\n",
    "                      epochs=20,\n",
    "                      lr=0.001,\n",
    "                      validation_data=(x_val, \n",
    "                                       y_val),\n",
    "                      verbose=True,\n",
    "                      use_every_sample=True)"
   ]
  },
  {
   "cell_type": "code",
   "execution_count": 14,
   "metadata": {},
   "outputs": [],
   "source": [
    "# 收集训练指标：\n",
    "epochs = [histories[i]['epoch'] for i in range(len(histories))]\n",
    "loss = [histories[i]['loss'] for i in range(len(histories))]\n",
    "loss_val = [histories[i]['loss_val'] for i in range(len(histories))]\n",
    "metric = [histories[i]['bin_acc'] for i in range(len(histories))]\n",
    "metric_val = [histories[i]['bin_acc_val'] for i in range(len(histories))]\n"
   ]
  },
  {
   "cell_type": "code",
   "execution_count": 15,
   "metadata": {},
   "outputs": [
    {
     "data": {
      "text/plain": [
       "<matplotlib.legend.Legend at 0x2079efa4b70>"
      ]
     },
     "execution_count": 15,
     "metadata": {},
     "output_type": "execute_result"
    },
    {
     "data": {
      "image/png": "[encoded data removed]",
      "text/plain": [
       "<Figure size 432x288 with 1 Axes>"
      ]
     },
     "metadata": {},
     "output_type": "display_data"
    }
   ],
   "source": [
    "\n",
    "# 绘制训练损失和验证损失：\n",
    "import matplotlib.pyplot as plt\n",
    "\n",
    "plt.title(\"Training and Validation Loss\")\n",
    "plt.xlabel(\"Epochs\")\n",
    "plt.ylabel(\"Loss\")\n",
    "plt.plot(epochs, loss, 'bo', label=\"Training Loss\")\n",
    "plt.plot(epochs, loss_val, 'b', label=\"Validation Loss\")\n",
    "plt.legend()"
   ]
  },
  {
   "cell_type": "code",
   "execution_count": 16,
   "metadata": {},
   "outputs": [
    {
     "data": {
      "text/plain": [
       "<matplotlib.legend.Legend at 0x207a0d71e48>"
      ]
     },
     "execution_count": 16,
     "metadata": {},
     "output_type": "execute_result"
    },
    {
     "data": {
      "image/png": "[encoded data removed]",
      "text/plain": [
       "<Figure size 432x288 with 1 Axes>"
      ]
     },
     "metadata": {},
     "output_type": "display_data"
    }
   ],
   "source": [
    "# 绘制训练精度和验证精度：\n",
    "plt.title(\"Training and validation Metric\")\n",
    "plt.xlabel(\"Epochs\")\n",
    "plt.ylabel(\"Metric\")\n",
    "plt.plot(epochs, metric, 'bo', label=\"Training Metric\")\n",
    "plt.plot(epochs, metric_val, 'b', label=\"Validation Metric\")\n",
    "plt.legend()"
   ]
  },
  {
   "cell_type": "code",
   "execution_count": 17,
   "metadata": {},
   "outputs": [
    {
     "name": "stdout",
     "output_type": "stream",
     "text": [
      "Epoch 1/3 - loss: 0.292792 - bin_acc: 0.912760 - time used: 9.79301142692566s.\n"
     ]
    },
    {
     "name": "stdout",
     "output_type": "stream",
     "text": [
      "Epoch 2/3 - loss: 0.203197 - bin_acc: 0.936520 - time used: 9.299002885818481s.\n"
     ]
    },
    {
     "name": "stdout",
     "output_type": "stream",
     "text": [
      "Epoch 3/3 - loss: 0.161268 - bin_acc: 0.951000 - time used: 8.829999923706055s.\n"
     ]
    },
    {
     "data": {
      "text/plain": [
       "[{'epoch': 0,\n  'loss': 0.29279175586178835,\n  'bin_acc': 0.9127599999999997,\n  'time_used': 9.79301142692566},\n {'epoch': 1,\n  'loss': 0.20319723846795626,\n  'bin_acc': 0.9365199999999988,\n  'time_used': 9.299002885818481},\n {'epoch': 2,\n  'loss': 0.16126781441768076,\n  'bin_acc': 0.9509999999999995,\n  'time_used': 8.829999923706055}]"
      ]
     },
     "execution_count": 17,
     "metadata": {},
     "output_type": "execute_result"
    }
   ],
   "source": [
    "# 由上面两个图可以看出，在第3轮训练之后产生过拟合，重新训练模型，训练3个epoch：\n",
    "model = NeuralNetwork()\n",
    "model.add(Dense(16, 'relu', 'xavier', (10000,)))\n",
    "model.add(Dense(16, 'relu', 'xavier'))\n",
    "model.add(Dense(1, 'sigmoid', 'xavier'))\n",
    "model.compile('rmsprop', 'bce', 'bin_acc')\n",
    "model.fit(x_train,\n",
    "          y_train,\n",
    "          batch_size=512,\n",
    "          epochs=3,\n",
    "          lr=0.001,\n",
    "          verbose=True,\n",
    "          use_every_sample=True)"
   ]
  },
  {
   "cell_type": "code",
   "execution_count": 33,
   "metadata": {},
   "outputs": [
    {
     "name": "stdout",
     "output_type": "stream",
     "text": [
      "{'loss': 0.2825772379594404, 'metric': 0.8888}\n"
     ]
    }
   ],
   "source": [
    "# 使用测试集评估模型：\n",
    "results = model.evaluate(x_test, y_test)\n",
    "print(results)"
   ]
  },
  {
   "cell_type": "code",
   "execution_count": null,
   "metadata": {},
   "outputs": [],
   "source": []
  }
 ],
 "metadata": {
  "kernelspec": {
   "display_name": "Python 2",
   "language": "python",
   "name": "python2"
  },
  "language_info": {
   "codemirror_mode": {
    "name": "ipython",
    "version": 2
   },
   "file_extension": ".py",
   "mimetype": "text/x-python",
   "name": "python",
   "nbconvert_exporter": "python",
   "pygments_lexer": "ipython2",
   "version": "2.7.6"
  }
 },
 "nbformat": 4,
 "nbformat_minor": 0
}
